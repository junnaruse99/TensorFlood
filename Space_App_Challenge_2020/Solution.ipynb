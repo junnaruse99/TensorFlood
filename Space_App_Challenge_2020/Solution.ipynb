{
 "cells": [
  {
   "cell_type": "markdown",
   "metadata": {},
   "source": [
    "# TensorFlood"
   ]
  },
  {
   "cell_type": "markdown",
   "metadata": {},
   "source": [
    "## OCEANIC NINO INDEX (ONI)\n",
    "\n",
    "The Oceanic Niño Index (ONI) is NOAA's primary indicator for monitoring El Niño and La Niña, which are opposite phases of the climate pattern called the El Niño-Southern Oscillation, or “ENSO” for short. NOAA considers El Niño conditions to be present when the Oceanic Niño Index is +0.5 or higher, indicating the east-central tropical Pacific is significanty warmer than usual.  La Niña conditions exist when the Oceanic Niño Index is -0.5 or lower, indicating the region is cooler than usual. "
   ]
  },
  {
   "cell_type": "markdown",
   "metadata": {},
   "source": [
    "The ONI tracks the running 3-month average sea surface temperatures in the east-central tropical Pacific between 120°-170°W. Scientists call the area the Niño 3.4 region. \n",
    "\n",
    "To calculate the ONI, scientists from NOAA's Climate Prediction Center calculate the average sea surface temperature in the Niño 3.4 region for each month, and then they average it with values from the previous and following months. This running three-month average is compared to a 30-year average. The observed difference from the average temperature in that region—whether warmer or cooler—is the ONI value for that 3-month \"season.\" \n",
    "\n",
    "Source: https://www.climate.gov/news-features/understanding-climate/climate-variability-oceanic-ni%C3%B1o-index"
   ]
  },
  {
   "cell_type": "markdown",
   "metadata": {},
   "source": [
    "#### Figure 1: Location of Nino3.4\n",
    "Source: https://www.climate.gov/news-features/understanding-climate/climate-variability-oceanic-ni%C3%B1o-index"
   ]
  },
  {
   "cell_type": "markdown",
   "metadata": {},
   "source": [
    "<img src=\"./Images/Map-Nino.jpeg\">"
   ]
  },
  {
   "cell_type": "markdown",
   "metadata": {},
   "source": [
    "#### Tabla 1. Threshold to identify weather 'El Niño' "
   ]
  },
  {
   "cell_type": "markdown",
   "metadata": {},
   "source": [
    "<img src=\"./Images/umbrales_nino.jpeg\">"
   ]
  },
  {
   "cell_type": "markdown",
   "metadata": {},
   "source": [
    "#### Source: NOAA"
   ]
  },
  {
   "cell_type": "markdown",
   "metadata": {},
   "source": [
    "1982 - 1983 - Fallecidos 512 - 8500 Enfermedades, Heridos 1304\n",
    "1997 - 1998 - Fallecidos 366 - Heridos 1053 - Centros de salud 580 - centros educativos 2873\n",
    "2016 - 2017"
   ]
  },
  {
   "cell_type": "markdown",
   "metadata": {},
   "source": [
    "Land cover type is an important factor due to its influence on the precipitation water runoff for a decision what kind of crop is suitable for a given region. This choice can substantially affect the future impact of floods (e.g. corn is a crop which can negatively influence the area during the flash floods). The second problem is an expansion of crop to forest areas (deforestation). This process has also a negative impact on influence of upcoming flash flood.\n",
    "\n",
    "Source:\n",
    "Halounova L. & Holubec V. (2014). Assesment of flood with regards to Land Cover Changes. DOI: 0.1016/S2212-5671(14)01021-1"
   ]
  },
  {
   "cell_type": "code",
   "execution_count": 1,
   "metadata": {},
   "outputs": [],
   "source": [
    "# !pip3 install meteomatics\n",
    "# !pip3 install datetime\n",
    "\n",
    "# for map visualization\n",
    "# !pip3 install cartopy\n",
    "# !pip3 install more-itertools\n",
    "\n",
    "# Ubuntu\n",
    "# !sudo apt-get install libproj-dev proj-data proj-bin  \n",
    "# !sudo apt-get install libgeos-dev  \n",
    "# !pip install cython  \n",
    "# !pip install cartopy  "
   ]
  },
  {
   "cell_type": "code",
   "execution_count": 2,
   "metadata": {},
   "outputs": [],
   "source": [
    "# For weather-data adqusicion\n",
    "import meteomatics.api as api\n",
    "import datetime as dt\n",
    "\n",
    "# For managing data\n",
    "import numpy as np\n",
    "import pandas as pd\n",
    "\n",
    "# For plotting\n",
    "import matplotlib.pyplot as plt\n",
    "%matplotlib inline\n",
    "\n",
    "# For machine learning\n",
    "from sklearn.preprocessing import MinMaxScaler\n",
    "from tensorflow.keras.models import Sequential\n",
    "from tensorflow.keras.layers import Dense, LSTM, Dropout, GRU, Bidirectional\n",
    "from tensorflow.keras.optimizers import SGD\n",
    "import math\n",
    "from sklearn.metrics import mean_squared_error\n",
    "from sklearn.impute import SimpleImputer"
   ]
  },
  {
   "cell_type": "markdown",
   "metadata": {},
   "source": [
    "## Restricting our dataset"
   ]
  },
  {
   "cell_type": "code",
   "execution_count": 3,
   "metadata": {},
   "outputs": [],
   "source": [
    "# Extract latitud and longitud from affected cities\n",
    "peru = [\n",
    "    {'name':'Tumbes', 'lat':-3.56694, 'long':-80.45153},\n",
    "    {'name':'Chiclayo', 'lat': -6.77361, 'long': -79.84},\n",
    "    {'name':'Piura', 'lat': -5.19449, 'long': -80.63282},\n",
    "]"
   ]
  },
  {
   "cell_type": "markdown",
   "metadata": {},
   "source": [
    "## Obtaining data"
   ]
  },
  {
   "cell_type": "markdown",
   "metadata": {},
   "source": [
    "We are going to find if there is any relationship with our gather data and probability of a weather El Nino. We are goint to extract dates and level of threat, where higher means more.\n",
    "\n",
    "- Dec 1982 - Jun 1983 - Level Threat 3\n",
    "- Nov 1997 - Apr 1998 - Level Threat 3\n",
    "- Dec 2002 - May 2003 - Level Threat 2\n",
    "- Dec 2004 - May 2005 - Level Threat 1\n",
    "- Dec 2006 - May 2007 - Level Threat 1\n",
    "- Dec 2009 - May 2010 - Level Threat 2\n",
    "- Dec 2016 - May 2017 - Level Threat 2"
   ]
  },
  {
   "cell_type": "code",
   "execution_count": 4,
   "metadata": {},
   "outputs": [],
   "source": [
    "dates= [\n",
    "    {'start_m':12, 'duration':7, 'end_m':6, 'start_y':1982, 'lvl_threat':3},\n",
    "    {'start_m':11, 'duration':5, 'end_m':4, 'start_y':1997, 'lvl_threat':3},\n",
    "    {'start_m':12, 'duration':6, 'end_m':5, 'start_y':2002, 'lvl_threat':2},\n",
    "    {'start_m':12, 'duration':6, 'end_m':5, 'start_y':2004, 'lvl_threat':1},\n",
    "    {'start_m':12, 'duration':6, 'end_m':5, 'start_y':2006, 'lvl_threat':1},\n",
    "    {'start_m':12, 'duration':6, 'end_m':5, 'start_y':2009, 'lvl_threat':2},\n",
    "    {'start_m':12, 'duration':6, 'end_m':5, 'start_y':2016, 'lvl_threat':2},\n",
    "]"
   ]
  },
  {
   "cell_type": "markdown",
   "metadata": {},
   "source": [
    "### Obtaining data from Meteomatics"
   ]
  },
  {
   "cell_type": "code",
   "execution_count": 5,
   "metadata": {},
   "outputs": [],
   "source": [
    "# Credentials\n",
    "username = 'tensorflood_naruse'\n",
    "password = 'VsSO0Qzm32taN'"
   ]
  },
  {
   "cell_type": "code",
   "execution_count": 6,
   "metadata": {},
   "outputs": [],
   "source": [
    "# Define a function that returns df of selected lat, lon and timeframes\n",
    "def df_meteomatics(lat, lon, start_year, start_month, start_day, number_years, interval_months):\n",
    "    lat_lon = [tuple((lat, lon))]\n",
    "    d = dt.date(start_year, start_month, start_day)\n",
    "    t = dt.time(0, 0)\n",
    "    startdate = dt.datetime.combine(d, t)\n",
    "    enddate=startdate + dt.timedelta(days=number_years*365)\n",
    "    interval = dt.timedelta(days=interval_months*30)\n",
    "    parameters = ['t_2m:C', 'precip_1h:mm', 'wind_speed_50m:ms', 'wind_dir_50m:d', 'relative_humidity_2m:p', 'global_rad:W']\n",
    "    df = api.query_time_series(latlon_tuple_list=lat_lon, startdate=startdate, enddate=enddate, interval=interval, parameters=parameters, username=username, password=password)\n",
    "    \n",
    "    # Modifying the values of the multindex\n",
    "    year = []\n",
    "    month = []\n",
    "    day = []\n",
    "    for i in range(len(df.index.get_level_values(2).date)):\n",
    "        year.append(df.index.get_level_values(2).date[i].year)\n",
    "        month.append(df.index.get_level_values(2).date[i].month)\n",
    "        day.append(df.index.get_level_values(2).date[i].day)\n",
    "    df.insert(0, 'year', year)\n",
    "    df.insert(1, 'month', month)\n",
    "    df.insert(2, 'day', day)\n",
    "    \n",
    "    # Erase the multiindex\n",
    "    df.reset_index(inplace=True)\n",
    "\n",
    "    # Drop validdate\n",
    "    df.drop(['validdate'], axis = 1, inplace=True)\n",
    "    \n",
    "    return df"
   ]
  },
  {
   "cell_type": "markdown",
   "metadata": {},
   "source": [
    "- lat: latitude\n",
    "- lon: longitude\n",
    "- year: year\n",
    "- month: month\n",
    "- day: day\n",
    "- t_2m:C: temperature above 2m in celsius\n",
    "- precip_1h:mm: precipitation in 1h in milimeters\n",
    "- wind_speed_50:ms: wind speed above 50m in meters/s\n",
    "- relative_humidity_2m:p: relative humidity above 2m\n",
    "- global_rad:W: global radiation in wats"
   ]
  },
  {
   "cell_type": "markdown",
   "metadata": {},
   "source": [
    "### Obtaining data from NOAA"
   ]
  },
  {
   "cell_type": "code",
   "execution_count": 7,
   "metadata": {},
   "outputs": [],
   "source": [
    "# Read data from NOAA dataset\n",
    "df_oni = pd.read_csv('https://www.cpc.ncep.noaa.gov/products/analysis_monitoring/ensostuff/detrend.nino34.ascii.txt', delimiter='\\s+')\n",
    "\n",
    "# Converting ANOM to categorical value\n",
    "df_oni.loc[df_oni['ANOM'] <= -1.5, 'ONI'] = 'Freezing cold'\n",
    "df_oni.loc[(df_oni['ANOM'] >= -1.5)&(df_oni['ANOM'] <= -1), 'ONI'] = 'Moderate cold'\n",
    "df_oni.loc[(df_oni['ANOM'] >= -1)&(df_oni['ANOM'] <= -0.5), 'ONI'] = 'cold' \n",
    "df_oni.loc[(df_oni['ANOM'] >= -0.5)&(df_oni['ANOM'] <= 0.5), 'ONI'] = 'Normal' \n",
    "df_oni.loc[(df_oni['ANOM'] >= 0.5)&(df_oni['ANOM'] <= 1), 'ONI'] = 'Hot'   \n",
    "df_oni.loc[(df_oni['ANOM'] >= 1)&(df_oni['ANOM'] <= 1.4), 'ONI'] = 'Moderate hot'\n",
    "df_oni.loc[df_oni['ANOM']>1.4, 'ONI'] = 'Burning hot' "
   ]
  },
  {
   "cell_type": "markdown",
   "metadata": {},
   "source": [
    "- YR: represents year\n",
    "- MON: represents month\n",
    "- TOTAL: Prom Temperature of seas - 3 month average\n",
    "- ClimAdjust: Temp of sea - 30 year average\n",
    "- ANOM: ONI"
   ]
  },
  {
   "cell_type": "markdown",
   "metadata": {},
   "source": [
    "## Obtaining soil data 1\n",
    "source: Fritz, Steffen; See, Linda; Perger, Christoph; McCallum, Ian; Schill, Christian; Schepaschenko, Dmitry; Duerauer, Martina; Karner, Mathias; Dresel, Christopher; Laso-Bayas, Juan-Carlos; Lesiv, Myroslava; Moorthy, Inian; Salk, Carl F; Danylo, Olha; Sturn, Tobias; Albrecht, Franziska; You, Liangzhi; Kraxner, Florian; Obersteiner, Michael (2016): A global dataset of crowdsourced land cover and land use reference data (2011-2012). PANGAEA, https://doi.org/10.1594/PANGAEA.869680, In: Fritz, S et al. (2016): A global dataset of crowdsourced land cover and land use reference data (2011-2012). PANGAEA, https://doi.org/10.1594/PANGAEA.869682"
   ]
  },
  {
   "cell_type": "code",
   "execution_count": 8,
   "metadata": {
    "scrolled": true
   },
   "outputs": [],
   "source": [
    "df_soil_1 = pd.read_csv('./Data/GlobalCrowd.tab', sep='\\t', header=None)\n",
    "df_soil_1.columns = ['ID_Competition', 'ID_Pixel', 'ID_User', 'Lon', 'Lat', \n",
    "                     'HI_1', 'LC_1', 'Perc_1', 'HI_2', 'LCC_2', 'Perc_2', \n",
    "                     'HI_3', 'LCC_3','Per_3', 'Conf_HI', 'Conf_LC', 'Resolution',\n",
    "                     'Code', 'Date/Time_data', 'Date/Time_Image', 'Size', \n",
    "                     'Conf_Aban', 'Conf']\n",
    "df_soil_1.dropna(axis=1, how='all', inplace=True)"
   ]
  },
  {
   "cell_type": "markdown",
   "metadata": {},
   "source": [
    "- ID_Competition: Competition ID, 1 = human impact, 2 = disagreement, 3 = wilderness, 4 = validation\n",
    "- ID_Pixel: Unique Pixel ID\n",
    "- ID_User: Unique User ID\n",
    "- Lon: Longitude\n",
    "- Lat: Latitude\n",
    "- HI_1: Human impact 1\n",
    "- LC1_1 : Land Cover 1, 1 = tree cover, 2 = shrub cover, 3 = herbaceus vegetation, 4 = cultivated and managed, 5 = mosaic, 6 = refularly floodes, 7 = urban, 8 = snow, 9 = barren, 10 = open water\n",
    "- Perc_1 = Percentage 1\n",
    "- Conf_HI: Confidence human impact, 0 = sure, 10 = quite sure, 20 = less sure, 30 = insure\n",
    "- Conf_LC: Confidence Land Cover, 0 = sure, 10 = quite sure, 20 = less sure, 30 = insure\n",
    "- Resolution: High resolution used\n",
    "- Code: More than 3 Land Cover Classes present in pixel\n",
    "- DATE/TIME_data: The date and time the entry was submitted\n",
    "- DATE/TIME_Pix: The image date used, entered by volunteer\n",
    "- Size: size of agricultural fields, 1 = very samll, 2 = small, 3 = medium, 4 = large\n",
    "- Conf_Aban: Confidence of abandoment, 0 = sure, 10 = quite sure, 20 = less sure, 30 = insure\n",
    "- Conf = ..."
   ]
  },
  {
   "cell_type": "markdown",
   "metadata": {},
   "source": [
    "## Working with the datasets"
   ]
  },
  {
   "cell_type": "markdown",
   "metadata": {},
   "source": [
    "Peru Limits\n",
    "- Punta superior = [-0.428969, -75.411832]\n",
    "- Punta inferior = [-18.528804, -70.295587]\n",
    "- Punta izquierda = [-5.895779, -81.116966]\n",
    "- Punta derecha = [-4.240466, -69.82373]"
   ]
  },
  {
   "cell_type": "code",
   "execution_count": 9,
   "metadata": {},
   "outputs": [
    {
     "data": {
      "text/html": [
       "<div>\n",
       "<style scoped>\n",
       "    .dataframe tbody tr th:only-of-type {\n",
       "        vertical-align: middle;\n",
       "    }\n",
       "\n",
       "    .dataframe tbody tr th {\n",
       "        vertical-align: top;\n",
       "    }\n",
       "\n",
       "    .dataframe thead th {\n",
       "        text-align: right;\n",
       "    }\n",
       "</style>\n",
       "<table border=\"1\" class=\"dataframe\">\n",
       "  <thead>\n",
       "    <tr style=\"text-align: right;\">\n",
       "      <th></th>\n",
       "      <th>ID_Competition</th>\n",
       "      <th>ID_Pixel</th>\n",
       "      <th>ID_User</th>\n",
       "      <th>Lon</th>\n",
       "      <th>Lat</th>\n",
       "      <th>HI_1</th>\n",
       "      <th>LC_1</th>\n",
       "      <th>Perc_1</th>\n",
       "      <th>HI_2</th>\n",
       "      <th>LCC_2</th>\n",
       "      <th>...</th>\n",
       "      <th>Per_3</th>\n",
       "      <th>Conf_HI</th>\n",
       "      <th>Conf_LC</th>\n",
       "      <th>Resolution</th>\n",
       "      <th>Code</th>\n",
       "      <th>Date/Time_data</th>\n",
       "      <th>Date/Time_Image</th>\n",
       "      <th>Size</th>\n",
       "      <th>Conf_Aban</th>\n",
       "      <th>Conf</th>\n",
       "    </tr>\n",
       "  </thead>\n",
       "  <tbody>\n",
       "  </tbody>\n",
       "</table>\n",
       "<p>0 rows × 23 columns</p>\n",
       "</div>"
      ],
      "text/plain": [
       "Empty DataFrame\n",
       "Columns: [ID_Competition, ID_Pixel, ID_User, Lon, Lat, HI_1, LC_1, Perc_1, HI_2, LCC_2, Perc_2, HI_3, LCC_3, Per_3, Conf_HI, Conf_LC, Resolution, Code, Date/Time_data, Date/Time_Image, Size, Conf_Aban, Conf]\n",
       "Index: []\n",
       "\n",
       "[0 rows x 23 columns]"
      ]
     },
     "execution_count": 9,
     "metadata": {},
     "output_type": "execute_result"
    }
   ],
   "source": [
    "lim_lat = (df_soil_1['Lat'] >= -18.528804)&(df_soil_1['Lat'] <= -0.428969)\n",
    "lim_lon = (df_soil_1['Lat'] >= -81.11696)&(df_soil_1['Lat'] <= -69.82373)\n",
    "df_soil_1[lim_lat&lim_lon]"
   ]
  },
  {
   "cell_type": "markdown",
   "metadata": {},
   "source": [
    "- There is not available data"
   ]
  },
  {
   "cell_type": "code",
   "execution_count": 10,
   "metadata": {},
   "outputs": [],
   "source": [
    "# Obtaining data from cities within 40 years\n",
    "\n",
    "# j: index of city\n",
    "def obtain_df_i(j):\n",
    "    df_1 = df_meteomatics(peru[j]['lat'], peru[j]['long'], 1980, 1, 1, 40, 1)\n",
    "    for i in range(len(dates)):\n",
    "        df_1.loc[((df_1['month']>=dates[i]['start_m'])&(df_1['year']==dates[i]['start_y']))|((df_1['month']<=dates[i]['end_m'])&(df_1['year']==dates[i]['start_y']+1)), 'Target']=dates[i]['lvl_threat']\n",
    "    return df_1"
   ]
  },
  {
   "cell_type": "code",
   "execution_count": 11,
   "metadata": {},
   "outputs": [
    {
     "name": "stdout",
     "output_type": "stream",
     "text": [
      "2020-10-04 14:22:34| INFO |Calling URL: https://api.meteomatics.com/1980-01-01T00:00:00+00:00--2019-12-22T00:00:00+00:00:P30D/t_2m:C,precip_1h:mm,wind_speed_50m:ms,wind_dir_50m:d,relative_humidity_2m:p,global_rad:W/-3.56694,-80.45153/bin?connector=python_v2.1.0 (username = tensorflood_naruse)\n"
     ]
    }
   ],
   "source": [
    "# City 0 with different time frames\n",
    "df_0 = obtain_df_i(0)\n",
    "\n",
    "# City 1 with different time frames\n",
    "# df_1 = obtain_df_i(1)\n",
    "\n",
    "# City 1 with different time frames\n",
    "# df_2 = obtain_df_i(2)"
   ]
  },
  {
   "cell_type": "code",
   "execution_count": 12,
   "metadata": {},
   "outputs": [],
   "source": [
    "# Defining a function to merge ANOM to df of Meteomatics\n",
    "def df_merging(df, df_oni):\n",
    "    df_1 = df.merge(df_oni, how='inner',left_on=['year', 'month'], right_on=['YR', 'MON'])\n",
    "    df_1.drop(['YR', 'MON', 'TOTAL', 'ClimAdjust'], axis=1, inplace=True)\n",
    "    return df_1"
   ]
  },
  {
   "cell_type": "code",
   "execution_count": 13,
   "metadata": {},
   "outputs": [],
   "source": [
    "# Merging datasets\n",
    "df_0_merged = df_merging(df_0, df_oni)\n",
    "# df_1_merged = df_merging(df_1, df_oni)\n",
    "# df_2_merged = df_merging(df_2, df_oni)"
   ]
  },
  {
   "cell_type": "code",
   "execution_count": 14,
   "metadata": {},
   "outputs": [],
   "source": [
    "# Drop lat, lon, year, month, day and ONI since its not usable\n",
    "def drop_function(df):\n",
    "    try:\n",
    "        df.drop(['lat', 'lon', 'year', 'month', 'day', 'ONI'], axis = 1, inplace=True)\n",
    "        df = df.reindex(columns=['t_2m:C', 'precip_1h:mm', 'wind_speed_50m:ms', 'wind_dir_50m:d', 'relative_humidity_2m:p'\n",
    "                                , 'global_rad:W', 'ANOM', 'Target'])\n",
    "        \n",
    "        return df\n",
    "    except:\n",
    "        pass"
   ]
  },
  {
   "cell_type": "code",
   "execution_count": 15,
   "metadata": {},
   "outputs": [],
   "source": [
    "df_0_dropped = drop_function(df_0_merged)\n",
    "# drop_function(df_1)\n",
    "# drop_function(df_2)"
   ]
  },
  {
   "cell_type": "markdown",
   "metadata": {},
   "source": [
    "## Imputing null values of Target"
   ]
  },
  {
   "cell_type": "code",
   "execution_count": 40,
   "metadata": {},
   "outputs": [],
   "source": [
    "impute_zeros = SimpleImputer(missing_values=np.nan, strategy='constant', fill_value=0).fit(df_0_dropped)\n",
    "df_0_imputed = pd.DataFrame.from_records(\n",
    "    data=impute_zeros.transform(\n",
    "        X=df_0_dropped\n",
    "    ),\n",
    "    columns=df_0_dropped.columns\n",
    ")"
   ]
  },
  {
   "cell_type": "markdown",
   "metadata": {},
   "source": [
    "## Some visualization"
   ]
  },
  {
   "cell_type": "code",
   "execution_count": 41,
   "metadata": {},
   "outputs": [
    {
     "data": {
      "text/html": [
       "<div>\n",
       "<style scoped>\n",
       "    .dataframe tbody tr th:only-of-type {\n",
       "        vertical-align: middle;\n",
       "    }\n",
       "\n",
       "    .dataframe tbody tr th {\n",
       "        vertical-align: top;\n",
       "    }\n",
       "\n",
       "    .dataframe thead th {\n",
       "        text-align: right;\n",
       "    }\n",
       "</style>\n",
       "<table border=\"1\" class=\"dataframe\">\n",
       "  <thead>\n",
       "    <tr style=\"text-align: right;\">\n",
       "      <th></th>\n",
       "      <th>t_2m:C</th>\n",
       "      <th>precip_1h:mm</th>\n",
       "      <th>wind_speed_50m:ms</th>\n",
       "      <th>wind_dir_50m:d</th>\n",
       "      <th>relative_humidity_2m:p</th>\n",
       "      <th>global_rad:W</th>\n",
       "      <th>ANOM</th>\n",
       "      <th>Target</th>\n",
       "    </tr>\n",
       "  </thead>\n",
       "  <tbody>\n",
       "    <tr>\n",
       "      <th>0</th>\n",
       "      <td>25.8</td>\n",
       "      <td>0.00</td>\n",
       "      <td>3.8</td>\n",
       "      <td>272.4</td>\n",
       "      <td>71.8</td>\n",
       "      <td>0.0</td>\n",
       "      <td>0.70</td>\n",
       "      <td>0.0</td>\n",
       "    </tr>\n",
       "    <tr>\n",
       "      <th>1</th>\n",
       "      <td>26.6</td>\n",
       "      <td>0.19</td>\n",
       "      <td>2.2</td>\n",
       "      <td>275.0</td>\n",
       "      <td>73.8</td>\n",
       "      <td>0.0</td>\n",
       "      <td>0.70</td>\n",
       "      <td>0.0</td>\n",
       "    </tr>\n",
       "    <tr>\n",
       "      <th>2</th>\n",
       "      <td>26.5</td>\n",
       "      <td>0.00</td>\n",
       "      <td>1.9</td>\n",
       "      <td>286.2</td>\n",
       "      <td>68.3</td>\n",
       "      <td>0.0</td>\n",
       "      <td>0.28</td>\n",
       "      <td>0.0</td>\n",
       "    </tr>\n",
       "    <tr>\n",
       "      <th>3</th>\n",
       "      <td>27.7</td>\n",
       "      <td>0.00</td>\n",
       "      <td>2.4</td>\n",
       "      <td>353.1</td>\n",
       "      <td>71.0</td>\n",
       "      <td>0.0</td>\n",
       "      <td>0.28</td>\n",
       "      <td>0.0</td>\n",
       "    </tr>\n",
       "    <tr>\n",
       "      <th>4</th>\n",
       "      <td>25.0</td>\n",
       "      <td>0.13</td>\n",
       "      <td>3.2</td>\n",
       "      <td>278.6</td>\n",
       "      <td>82.9</td>\n",
       "      <td>0.0</td>\n",
       "      <td>0.34</td>\n",
       "      <td>0.0</td>\n",
       "    </tr>\n",
       "    <tr>\n",
       "      <th>...</th>\n",
       "      <td>...</td>\n",
       "      <td>...</td>\n",
       "      <td>...</td>\n",
       "      <td>...</td>\n",
       "      <td>...</td>\n",
       "      <td>...</td>\n",
       "      <td>...</td>\n",
       "      <td>...</td>\n",
       "    </tr>\n",
       "    <tr>\n",
       "      <th>482</th>\n",
       "      <td>21.1</td>\n",
       "      <td>0.00</td>\n",
       "      <td>4.8</td>\n",
       "      <td>253.5</td>\n",
       "      <td>81.2</td>\n",
       "      <td>0.0</td>\n",
       "      <td>-0.01</td>\n",
       "      <td>0.0</td>\n",
       "    </tr>\n",
       "    <tr>\n",
       "      <th>483</th>\n",
       "      <td>19.9</td>\n",
       "      <td>0.00</td>\n",
       "      <td>3.8</td>\n",
       "      <td>252.4</td>\n",
       "      <td>86.3</td>\n",
       "      <td>0.0</td>\n",
       "      <td>-0.04</td>\n",
       "      <td>0.0</td>\n",
       "    </tr>\n",
       "    <tr>\n",
       "      <th>484</th>\n",
       "      <td>21.8</td>\n",
       "      <td>0.00</td>\n",
       "      <td>2.3</td>\n",
       "      <td>268.4</td>\n",
       "      <td>85.5</td>\n",
       "      <td>0.0</td>\n",
       "      <td>0.45</td>\n",
       "      <td>0.0</td>\n",
       "    </tr>\n",
       "    <tr>\n",
       "      <th>485</th>\n",
       "      <td>22.3</td>\n",
       "      <td>0.00</td>\n",
       "      <td>5.0</td>\n",
       "      <td>251.9</td>\n",
       "      <td>79.7</td>\n",
       "      <td>0.0</td>\n",
       "      <td>0.48</td>\n",
       "      <td>0.0</td>\n",
       "    </tr>\n",
       "    <tr>\n",
       "      <th>486</th>\n",
       "      <td>22.6</td>\n",
       "      <td>0.66</td>\n",
       "      <td>2.4</td>\n",
       "      <td>278.9</td>\n",
       "      <td>85.1</td>\n",
       "      <td>0.0</td>\n",
       "      <td>0.47</td>\n",
       "      <td>0.0</td>\n",
       "    </tr>\n",
       "  </tbody>\n",
       "</table>\n",
       "<p>487 rows × 8 columns</p>\n",
       "</div>"
      ],
      "text/plain": [
       "     t_2m:C  precip_1h:mm  wind_speed_50m:ms  wind_dir_50m:d  \\\n",
       "0      25.8          0.00                3.8           272.4   \n",
       "1      26.6          0.19                2.2           275.0   \n",
       "2      26.5          0.00                1.9           286.2   \n",
       "3      27.7          0.00                2.4           353.1   \n",
       "4      25.0          0.13                3.2           278.6   \n",
       "..      ...           ...                ...             ...   \n",
       "482    21.1          0.00                4.8           253.5   \n",
       "483    19.9          0.00                3.8           252.4   \n",
       "484    21.8          0.00                2.3           268.4   \n",
       "485    22.3          0.00                5.0           251.9   \n",
       "486    22.6          0.66                2.4           278.9   \n",
       "\n",
       "     relative_humidity_2m:p  global_rad:W  ANOM  Target  \n",
       "0                      71.8           0.0  0.70     0.0  \n",
       "1                      73.8           0.0  0.70     0.0  \n",
       "2                      68.3           0.0  0.28     0.0  \n",
       "3                      71.0           0.0  0.28     0.0  \n",
       "4                      82.9           0.0  0.34     0.0  \n",
       "..                      ...           ...   ...     ...  \n",
       "482                    81.2           0.0 -0.01     0.0  \n",
       "483                    86.3           0.0 -0.04     0.0  \n",
       "484                    85.5           0.0  0.45     0.0  \n",
       "485                    79.7           0.0  0.48     0.0  \n",
       "486                    85.1           0.0  0.47     0.0  \n",
       "\n",
       "[487 rows x 8 columns]"
      ]
     },
     "execution_count": 41,
     "metadata": {},
     "output_type": "execute_result"
    }
   ],
   "source": [
    "df_0_imputed"
   ]
  },
  {
   "cell_type": "code",
   "execution_count": 42,
   "metadata": {},
   "outputs": [
    {
     "data": {
      "text/plain": [
       "[<matplotlib.lines.Line2D at 0x7f84996b7490>]"
      ]
     },
     "execution_count": 42,
     "metadata": {},
     "output_type": "execute_result"
    },
    {
     "data": {
      "image/png": "[encoded data removed]",
      "text/plain": [
       "<Figure size 432x288 with 1 Axes>"
      ]
     },
     "metadata": {
      "needs_background": "light"
     },
     "output_type": "display_data"
    }
   ],
   "source": [
    "plt.plot(range(0, 487), df_0_imputed['Target'])"
   ]
  },
  {
   "cell_type": "code",
   "execution_count": 70,
   "metadata": {},
   "outputs": [
    {
     "data": {
      "text/plain": [
       "[<matplotlib.lines.Line2D at 0x7f8497e9c580>]"
      ]
     },
     "execution_count": 70,
     "metadata": {},
     "output_type": "execute_result"
    },
    {
     "data": {
      "image/png": "[encoded data removed]",
      "text/plain": [
       "<Figure size 432x288 with 1 Axes>"
      ]
     },
     "metadata": {
      "needs_background": "light"
     },
     "output_type": "display_data"
    }
   ],
   "source": [
    "plt.plot(range(0, 487), df_0_imputed['precip_1h:mm'])"
   ]
  },
  {
   "cell_type": "code",
   "execution_count": 43,
   "metadata": {},
   "outputs": [],
   "source": [
    "# Some functions to help out with\n",
    "def plot_predictions(test,predicted):\n",
    "    plt.plot(test, color='red',label='Real Level of threat')\n",
    "    plt.plot(predicted, color='blue',label='Predicted level of threat')\n",
    "    plt.title('Level of threat')\n",
    "    plt.xlabel('Time')\n",
    "    plt.ylabel('Level of threat')\n",
    "    plt.legend()\n",
    "    plt.show()\n",
    "\n",
    "def return_rmse(test,predicted):\n",
    "    rmse = math.sqrt(mean_squared_error(test, predicted))\n",
    "    print(\"The root mean squared error is {}.\".format(rmse))"
   ]
  },
  {
   "cell_type": "code",
   "execution_count": 44,
   "metadata": {},
   "outputs": [],
   "source": [
    "# Split\n",
    "# training_set = df_0_imputed[:350].iloc[:,:].values\n",
    "# test_set = df_0_imputed[351:].iloc[:,:].values\n",
    "\n",
    "training_set = df_0_imputed[:400]\n",
    "test_set = df_0_imputed[400:]"
   ]
  },
  {
   "cell_type": "code",
   "execution_count": 51,
   "metadata": {},
   "outputs": [],
   "source": [
    "# Scaling the training set\n",
    "sc = MinMaxScaler(feature_range=(0,3))\n",
    "training_set_scaled = sc.fit_transform(training_set)"
   ]
  },
  {
   "cell_type": "code",
   "execution_count": 61,
   "metadata": {},
   "outputs": [],
   "source": [
    "# Since LSTMs store long term memory state, we create a data structure with 10 timesteps and 1 output\n",
    "# So for each element of training set, we have 10 previous training set elements \n",
    "X_train = []\n",
    "y_train = []\n",
    "for i in range(10,400):\n",
    "    X_train.append(training_set_scaled[i-10:i,:])\n",
    "    y_train.append(training_set_scaled[i,:])\n",
    "X_train, y_train = np.array(X_train), np.array(y_train)"
   ]
  },
  {
   "cell_type": "code",
   "execution_count": 1,
   "metadata": {},
   "outputs": [],
   "source": [
    "# Reshaping X_train for efficient modelling\n",
    "# X_train = np.reshape(X_train, (X_train.shape[0],X_train.shape[1],1))"
   ]
  },
  {
   "cell_type": "code",
   "execution_count": 2,
   "metadata": {},
   "outputs": [],
   "source": [
    "# The LSTM architecture\n",
    "# regressor = Sequential()\n",
    "# First LSTM layer with Dropout regularisation\n",
    "# regressor.add(LSTM(units=50, return_sequences=True, input_shape=(X_train.shape[1],1)))\n",
    "# regressor.add(Dropout(0.2))\n",
    "# Second LSTM layer\n",
    "# regressor.add(LSTM(units=50, return_sequences=True))\n",
    "# regressor.add(Dropout(0.2))\n",
    "# Third LSTM layer\n",
    "# regressor.add(LSTM(units=50, return_sequences=True))\n",
    "# regressor.add(Dropout(0.2))\n",
    "# Fourth LSTM layer\n",
    "# regressor.add(LSTM(units=50))\n",
    "# regressor.add(Dropout(0.2))\n",
    "# The output layer\n",
    "# regressor.add(Dense(units=1))\n",
    "\n",
    "# Compiling the RNN\n",
    "# regressor.compile(optimizer='rmsprop',loss='mean_squared_error')\n",
    "# Fitting to the training set\n",
    "# regressor.fit(X_train,y_train,epochs=50,batch_size=32)"
   ]
  },
  {
   "cell_type": "code",
   "execution_count": null,
   "metadata": {},
   "outputs": [],
   "source": [
    "# Now to get the test set ready in a similar way as the training set.\n",
    "# The following has been done so forst 60 entires of test set have 60 previous values which is impossible to get unless we take the whole \n",
    "# 'High' attribute data for processing\n",
    "# dataset_total = pd.concat((dataset[\"High\"][:'2016'],dataset[\"High\"]['2017':]),axis=0)\n",
    "# inputs = dataset_total[len(dataset_total)-len(test_set) - 60:].values\n",
    "# inputs = inputs.reshape(-1,1)\n",
    "# inputs  = sc.transform(inputs)"
   ]
  },
  {
   "cell_type": "code",
   "execution_count": null,
   "metadata": {},
   "outputs": [],
   "source": [
    "# Preparing X_test and predicting the prices\n",
    "# X_test = []\n",
    "# for i in range(60,311):\n",
    "#    X_test.append(inputs[i-60:i,0])\n",
    "# X_test = np.array(X_test)\n",
    "# X_test = np.reshape(X_test, (X_test.shape[0],X_test.shape[1],1))\n",
    "# predicted_stock_price = regressor.predict(X_test)\n",
    "# predicted_stock_price = sc.inverse_transform(predicted_stock_price)"
   ]
  },
  {
   "cell_type": "code",
   "execution_count": null,
   "metadata": {},
   "outputs": [],
   "source": [
    "# Visualizing the results for LSTM\n",
    "# plot_predictions(test_set,predicted_stock_price)"
   ]
  }
 ],
 "metadata": {
  "kernelspec": {
   "display_name": "mach_lear_venv",
   "language": "python",
   "name": "mach_lear_venv"
  },
  "language_info": {
   "codemirror_mode": {
    "name": "ipython",
    "version": 3
   },
   "file_extension": ".py",
   "mimetype": "text/x-python",
   "name": "python",
   "nbconvert_exporter": "python",
   "pygments_lexer": "ipython3",
   "version": "3.8.2"
  }
 },
 "nbformat": 4,
 "nbformat_minor": 4
}
